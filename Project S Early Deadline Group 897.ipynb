{
 "cells": [
  {
   "cell_type": "code",
   "execution_count": 3,
   "metadata": {},
   "outputs": [
    {
     "name": "stdout",
     "output_type": "stream",
     "text": [
      "Collecting skyfield\n",
      "\u001b[?25l  Downloading https://files.pythonhosted.org/packages/4e/1c/505a76096e8cbe3a63b457b786f29177cd89a148e6bf70296a5008492569/skyfield-1.31.tar.gz (371kB)\n",
      "\u001b[K     |████████████████████████████████| 378kB 2.0MB/s eta 0:00:01\n",
      "\u001b[?25hRequirement already satisfied: certifi>=2017.4.17 in /opt/anaconda3/lib/python3.7/site-packages (from skyfield) (2019.9.11)\n",
      "Collecting jplephem>=2.13 (from skyfield)\n",
      "\u001b[?25l  Downloading https://files.pythonhosted.org/packages/c9/f0/e57456436531333455f40864622c5ae359654ccede8fe1156c3c2ac6c492/jplephem-2.15.tar.gz (40kB)\n",
      "\u001b[K     |████████████████████████████████| 40kB 9.3MB/s  eta 0:00:01\n",
      "\u001b[?25hRequirement already satisfied: numpy in /opt/anaconda3/lib/python3.7/site-packages (from skyfield) (1.17.2)\n",
      "Collecting sgp4>=2.2 (from skyfield)\n",
      "\u001b[?25l  Downloading https://files.pythonhosted.org/packages/6c/c6/271e16dbf66c08d4bfea0073d29a79859d5d49a07ac02fce865489742990/sgp4-2.13-cp37-cp37m-macosx_10_6_intel.whl (173kB)\n",
      "\u001b[K     |████████████████████████████████| 174kB 8.7MB/s eta 0:00:01\n",
      "\u001b[?25hBuilding wheels for collected packages: skyfield, jplephem\n",
      "  Building wheel for skyfield (setup.py) ... \u001b[?25ldone\n",
      "\u001b[?25h  Created wheel for skyfield: filename=skyfield-1.31-cp37-none-any.whl size=409019 sha256=9b88211968230ab2e0fa2ff943390847ab9f4e264ec9e933f3f94142a218bcb1\n",
      "  Stored in directory: /Users/jinyoungbae/Library/Caches/pip/wheels/9e/72/a8/6cd062de5215beb596061c26e6af2948277a9ece5f8f92e5f5\n",
      "  Building wheel for jplephem (setup.py) ... \u001b[?25ldone\n",
      "\u001b[?25h  Created wheel for jplephem: filename=jplephem-2.15-cp37-none-any.whl size=46020 sha256=8e43d2fe5634a5a53f02359584c42e9bc0b988fce3b351397d663d087d608bf5\n",
      "  Stored in directory: /Users/jinyoungbae/Library/Caches/pip/wheels/01/71/9c/beaa33beb607ef67b62765324a10cd3584e30fbeef8856b7a8\n",
      "Successfully built skyfield jplephem\n",
      "Installing collected packages: jplephem, sgp4, skyfield\n",
      "Successfully installed jplephem-2.15 sgp4-2.13 skyfield-1.31\n"
     ]
    },
    {
     "name": "stderr",
     "output_type": "stream",
     "text": [
      "[#################################] 100% de421.bsp\n"
     ]
    },
    {
     "name": "stdout",
     "output_type": "stream",
     "text": [
      "01h 08m 24.29s\n",
      "+04deg 49' 42.0\"\n",
      "0.441688 au\n"
     ]
    }
   ],
   "source": [
    "import sys\n",
    "!pip install skyfield\n",
    "\n",
    "from skyfield.api import load\n",
    "from skyfield.api import Topos\n",
    "\n",
    "planets = load('de421.bsp')\n",
    "earth, mars = planets['earth'], planets['mars']\n",
    "\n",
    "ts = load.timescale()\n",
    "t = ts.now()\n",
    "astrometric = earth.at(t).observe(mars)\n",
    "ra, dec, distance = astrometric.radec()\n",
    "\n",
    "print(ra)\n",
    "print(dec)\n",
    "print(distance)"
   ]
  },
  {
   "cell_type": "code",
   "execution_count": 4,
   "metadata": {},
   "outputs": [
    {
     "name": "stdout",
     "output_type": "stream",
     "text": [
      "-19deg 22' 51.4\"\n",
      "63deg 37' 46.8\"\n"
     ]
    }
   ],
   "source": [
    "boston = earth + Topos('42.3583 N', '71.0636 W')\n",
    "astrometric = boston.at(t).observe(mars)\n",
    "alt, az, d = astrometric.apparent().altaz()\n",
    "\n",
    "print(alt)\n",
    "print(az)"
   ]
  },
  {
   "cell_type": "code",
   "execution_count": null,
   "metadata": {},
   "outputs": [],
   "source": []
  }
 ],
 "metadata": {
  "kernelspec": {
   "display_name": "Python 3",
   "language": "python",
   "name": "python3"
  },
  "language_info": {
   "codemirror_mode": {
    "name": "ipython",
    "version": 3
   },
   "file_extension": ".py",
   "mimetype": "text/x-python",
   "name": "python",
   "nbconvert_exporter": "python",
   "pygments_lexer": "ipython3",
   "version": "3.7.4"
  }
 },
 "nbformat": 4,
 "nbformat_minor": 4
}
