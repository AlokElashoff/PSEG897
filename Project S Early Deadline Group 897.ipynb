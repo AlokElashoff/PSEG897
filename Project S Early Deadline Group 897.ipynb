{
 "cells": [
  {
   "cell_type": "code",
   "execution_count": 8,
   "metadata": {},
   "outputs": [
    {
     "name": "stdout",
     "output_type": "stream",
     "text": [
      "Requirement already satisfied: skyfield in /opt/anaconda3/lib/python3.7/site-packages (1.31)\n",
      "Requirement already satisfied: certifi>=2017.4.17 in /opt/anaconda3/lib/python3.7/site-packages (from skyfield) (2019.9.11)\n",
      "Requirement already satisfied: numpy in /opt/anaconda3/lib/python3.7/site-packages (from skyfield) (1.17.2)\n",
      "Requirement already satisfied: sgp4>=2.2 in /opt/anaconda3/lib/python3.7/site-packages (from skyfield) (2.13)\n",
      "Requirement already satisfied: jplephem>=2.13 in /opt/anaconda3/lib/python3.7/site-packages (from skyfield) (2.15)\n"
     ]
    }
   ],
   "source": [
    "import sys\n",
    "!pip install skyfield\n",
    "\n",
    "import pandas as pd\n",
    "from skyfield.api import load\n",
    "from skyfield.api import Topos"
   ]
  },
  {
   "cell_type": "code",
   "execution_count": 6,
   "metadata": {},
   "outputs": [
    {
     "name": "stderr",
     "output_type": "stream",
     "text": [
      "[#################################] 100% de422.bsp\n"
     ]
    },
    {
     "name": "stdout",
     "output_type": "stream",
     "text": [
      "01h 08m 23.46s\n",
      "+04deg 49' 40.5\"\n",
      "0.441727 au\n",
      "-16deg 10' 51.5\"\n",
      "67deg 18' 26.0\"\n"
     ]
    }
   ],
   "source": [
    "planets = load('de422.bsp')\n"
   ]
  },
  {
   "cell_type": "code",
   "execution_count": 22,
   "metadata": {},
   "outputs": [],
   "source": [
    "### choose place based off of Long and Lat\n",
    "india = earth + Topos('20.5937 N', '78.9629 E')\n",
    "names_of_planets = ['mercury', 'mars', 'venus', 'jupiter', 'saturn']\n",
    "ts = load.timescale()\n"
   ]
  },
  {
   "cell_type": "code",
   "execution_count": 23,
   "metadata": {},
   "outputs": [
    {
     "name": "stdout",
     "output_type": "stream",
     "text": [
      "23deg 31' 51.6\" 82deg 33' 51.5\" 1.47608 au\n",
      "23deg 31' 51.6\" 82deg 33' 51.5\" 1.47608 au\n"
     ]
    }
   ],
   "source": [
    "\n",
    "\n",
    "#t = ts.utc(1597, 7, 10, 21, 34, 10)\n",
    "#astrometric = india.at(t).observe(mars)\n",
    "#temp, pressure standard\n",
    "#alt, az, _ = astrometric.apparent().altaz()\n",
    "#figure out why epoch = date\n",
    "#ra, dec, distance = astrometric.apparent().radec(epoch = \"date\")\n",
    "\n",
    "print(alt, az, distance)\n",
    "\n",
    "def planet_dataset_creator(year, planet):\n",
    "    p = planets[planet + ' barycenter']\n",
    "\n",
    "    for i in range(1, 13):\n",
    "        t = ts.utc(year, i, 1)  #maybe put day at the end\n",
    "        astrometric = india.at(t).observe(planet)\n",
    "        alt, az, _ = astrometric.apparent().altaz()        \n",
    "        ra, dec, distance = astrometric.apparent().radec(epoch = \"date\")\n",
    "        "
   ]
  },
  {
   "cell_type": "code",
   "execution_count": 28,
   "metadata": {},
   "outputs": [
    {
     "data": {
      "text/html": [
       "<div>\n",
       "<style scoped>\n",
       "    .dataframe tbody tr th:only-of-type {\n",
       "        vertical-align: middle;\n",
       "    }\n",
       "\n",
       "    .dataframe tbody tr th {\n",
       "        vertical-align: top;\n",
       "    }\n",
       "\n",
       "    .dataframe thead th {\n",
       "        text-align: right;\n",
       "    }\n",
       "</style>\n",
       "<table border=\"1\" class=\"dataframe\">\n",
       "  <thead>\n",
       "    <tr style=\"text-align: right;\">\n",
       "      <th></th>\n",
       "      <th>az</th>\n",
       "      <th>distance</th>\n",
       "    </tr>\n",
       "  </thead>\n",
       "  <tbody>\n",
       "    <tr>\n",
       "      <td>1000</td>\n",
       "      <td>NaN</td>\n",
       "      <td>NaN</td>\n",
       "    </tr>\n",
       "    <tr>\n",
       "      <td>2000</td>\n",
       "      <td>NaN</td>\n",
       "      <td>NaN</td>\n",
       "    </tr>\n",
       "  </tbody>\n",
       "</table>\n",
       "</div>"
      ],
      "text/plain": [
       "       az distance\n",
       "1000  NaN      NaN\n",
       "2000  NaN      NaN"
      ]
     },
     "execution_count": 28,
     "metadata": {},
     "output_type": "execute_result"
    }
   ],
   "source": []
  },
  {
   "cell_type": "code",
   "execution_count": null,
   "metadata": {},
   "outputs": [],
   "source": []
  }
 ],
 "metadata": {
  "kernelspec": {
   "display_name": "Python 3",
   "language": "python",
   "name": "python3"
  },
  "language_info": {
   "codemirror_mode": {
    "name": "ipython",
    "version": 3
   },
   "file_extension": ".py",
   "mimetype": "text/x-python",
   "name": "python",
   "nbconvert_exporter": "python",
   "pygments_lexer": "ipython3",
   "version": "3.7.4"
  }
 },
 "nbformat": 4,
 "nbformat_minor": 4
}
